{
 "cells": [
  {
   "cell_type": "code",
   "execution_count": 2,
   "metadata": {},
   "outputs": [
    {
     "name": "stdout",
     "output_type": "stream",
     "text": [
      "Number of students : 2\n",
      "Name of the Student : k\n",
      "Marks in Subject 1 : 70\n",
      "Marks in Subject 2 : 80\n",
      "Marks in Subject 3 : 90\n",
      "Name of the Student : g\n",
      "Marks in Subject 1 : 90\n",
      "Marks in Subject 2 : 70\n",
      "Marks in Subject 3 : 50\n",
      "The student with highest grades is k with 80 marks\n"
     ]
    }
   ],
   "source": [
    "class Student():\n",
    "    \n",
    "    def __init__(self,name,s1,s2,s3):\n",
    "        \n",
    "        self.name = name\n",
    "        self.s1 = s1\n",
    "        self.s2 = s2\n",
    "        self.s3 = s3\n",
    "        \n",
    "    def calcr(self):\n",
    "        \n",
    "        avg = 0    \n",
    "        avg = (int(self.s1)+int(self.s2)+int(self.s3))/3\n",
    "        \n",
    "        if avg>40:\n",
    "            return avg\n",
    "        else:\n",
    "            return 0\n",
    "\n",
    "        \n",
    "class School():\n",
    "    \n",
    "    def __init__(self,sd):\n",
    "        \n",
    "        self.sd = sd\n",
    "        \n",
    "    def getr(self):\n",
    "            \n",
    "        for k,v in self.sd.items():\n",
    "            if int(v)>60:\n",
    "                lop.append((k,int(v)))\n",
    "            else:\n",
    "                pass\n",
    "                \n",
    "    def highest(self,lop):\n",
    "            \n",
    "        ph = 0\n",
    "        n = ' '\n",
    "        for i,g in lop:\n",
    "            if int(g)>ph:\n",
    "                ph = int(g)\n",
    "                n = i\n",
    "            else:\n",
    "                pass\n",
    "        print(f'The student with highest grades is {n} with {ph} marks')\n",
    "            \n",
    "            \n",
    "if __name__ == '__main__':\n",
    "    \n",
    "    a = input(\"Number of students : \")\n",
    "    d = {}\n",
    "    lop = []\n",
    "    for j in range(int(a)):\n",
    "        nme = input(\"Name of the Student : \")\n",
    "        s_1 = input(\"Marks in Subject 1 : \")\n",
    "        s_2 = input(\"Marks in Subject 2 : \")\n",
    "        s_3 = input(\"Marks in Subject 3 : \")\n",
    "        c = Student(nme,s_1,s_2,s_3)\n",
    "        b = c.calcr()\n",
    "        d[nme] = b\n",
    "    \n",
    "    \n",
    "    schl = School(d)\n",
    "    schl.getr()\n",
    "    schl.highest(lop)"
   ]
  },
  {
   "cell_type": "code",
   "execution_count": null,
   "metadata": {},
   "outputs": [],
   "source": [
    "b"
   ]
  },
  {
   "cell_type": "code",
   "execution_count": null,
   "metadata": {},
   "outputs": [],
   "source": [
    "d"
   ]
  },
  {
   "cell_type": "code",
   "execution_count": null,
   "metadata": {},
   "outputs": [],
   "source": [
    "y = 'khizar'\n",
    "g = 10\n",
    "f= {}\n",
    "f[y] = g"
   ]
  },
  {
   "cell_type": "code",
   "execution_count": null,
   "metadata": {},
   "outputs": [],
   "source": [
    "c = {'k':10,'g':11}"
   ]
  },
  {
   "cell_type": "code",
   "execution_count": null,
   "metadata": {},
   "outputs": [],
   "source": [
    "jk = {'f':1,'d':2}\n",
    "for key,value in jk.items():\n",
    "    print(key)\n",
    "    print(value)"
   ]
  },
  {
   "cell_type": "code",
   "execution_count": null,
   "metadata": {},
   "outputs": [],
   "source": []
  }
 ],
 "metadata": {
  "kernelspec": {
   "display_name": "Python 3",
   "language": "python",
   "name": "python3"
  },
  "language_info": {
   "codemirror_mode": {
    "name": "ipython",
    "version": 3
   },
   "file_extension": ".py",
   "mimetype": "text/x-python",
   "name": "python",
   "nbconvert_exporter": "python",
   "pygments_lexer": "ipython3",
   "version": "3.7.3"
  }
 },
 "nbformat": 4,
 "nbformat_minor": 2
}
